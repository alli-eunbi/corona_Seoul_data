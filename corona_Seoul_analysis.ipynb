{
 "cells": [
  {
   "cell_type": "markdown",
   "id": "134852e2",
   "metadata": {},
   "source": [
    "# 코로나 데이터 분석"
   ]
  },
  {
   "cell_type": "markdown",
   "id": "95998aec",
   "metadata": {},
   "source": [
    "## 1.1 데이터 불러오기\n"
   ]
  },
  {
   "cell_type": "code",
   "execution_count": 1,
   "id": "100c1b63",
   "metadata": {
    "scrolled": true
   },
   "outputs": [],
   "source": [
    "import numpy as np\n",
    "import pandas as pd\n",
    "import matplotlib.pyplot as plt\n",
    "import seaborn as sns"
   ]
  },
  {
   "cell_type": "code",
   "execution_count": 2,
   "id": "710a5d69",
   "metadata": {},
   "outputs": [],
   "source": [
    "# csv 파일 읽어오기\n",
    "corona_all = pd.read_csv('./서울시 코로나19 확진자 현황.csv')"
   ]
  },
  {
   "cell_type": "code",
   "execution_count": 3,
   "id": "ee387b0b",
   "metadata": {},
   "outputs": [
    {
     "data": {
      "text/html": [
       "<div>\n",
       "<style scoped>\n",
       "    .dataframe tbody tr th:only-of-type {\n",
       "        vertical-align: middle;\n",
       "    }\n",
       "\n",
       "    .dataframe tbody tr th {\n",
       "        vertical-align: top;\n",
       "    }\n",
       "\n",
       "    .dataframe thead th {\n",
       "        text-align: right;\n",
       "    }\n",
       "</style>\n",
       "<table border=\"1\" class=\"dataframe\">\n",
       "  <thead>\n",
       "    <tr style=\"text-align: right;\">\n",
       "      <th></th>\n",
       "      <th>연번</th>\n",
       "      <th>확진일</th>\n",
       "      <th>환자번호</th>\n",
       "      <th>국적</th>\n",
       "      <th>환자정보</th>\n",
       "      <th>지역</th>\n",
       "      <th>여행력</th>\n",
       "      <th>접촉력</th>\n",
       "      <th>조치사항</th>\n",
       "      <th>상태</th>\n",
       "      <th>이동경로</th>\n",
       "      <th>등록일</th>\n",
       "      <th>수정일</th>\n",
       "      <th>노출여부</th>\n",
       "    </tr>\n",
       "  </thead>\n",
       "  <tbody>\n",
       "    <tr>\n",
       "      <th>0</th>\n",
       "      <td>5748</td>\n",
       "      <td>10.21.</td>\n",
       "      <td>25530</td>\n",
       "      <td>NaN</td>\n",
       "      <td>NaN</td>\n",
       "      <td>양천구</td>\n",
       "      <td>NaN</td>\n",
       "      <td>감염경로 조사중</td>\n",
       "      <td>NaN</td>\n",
       "      <td>NaN</td>\n",
       "      <td>NaN</td>\n",
       "      <td>2020-10-22 10:58</td>\n",
       "      <td>2020-10-22 10:58</td>\n",
       "      <td>Y</td>\n",
       "    </tr>\n",
       "    <tr>\n",
       "      <th>1</th>\n",
       "      <td>5747</td>\n",
       "      <td>10.21.</td>\n",
       "      <td>25528</td>\n",
       "      <td>NaN</td>\n",
       "      <td>NaN</td>\n",
       "      <td>강동구</td>\n",
       "      <td>NaN</td>\n",
       "      <td>강남서초 지인모임</td>\n",
       "      <td>NaN</td>\n",
       "      <td>NaN</td>\n",
       "      <td>NaN</td>\n",
       "      <td>2020-10-22 10:58</td>\n",
       "      <td>2020-10-22 10:58</td>\n",
       "      <td>Y</td>\n",
       "    </tr>\n",
       "    <tr>\n",
       "      <th>2</th>\n",
       "      <td>5746</td>\n",
       "      <td>10.21.</td>\n",
       "      <td>25525</td>\n",
       "      <td>NaN</td>\n",
       "      <td>NaN</td>\n",
       "      <td>강남구</td>\n",
       "      <td>NaN</td>\n",
       "      <td>기타 확진자 접촉</td>\n",
       "      <td>NaN</td>\n",
       "      <td>NaN</td>\n",
       "      <td>NaN</td>\n",
       "      <td>2020-10-22 10:58</td>\n",
       "      <td>2020-10-22 10:58</td>\n",
       "      <td>Y</td>\n",
       "    </tr>\n",
       "    <tr>\n",
       "      <th>3</th>\n",
       "      <td>5745</td>\n",
       "      <td>10.21.</td>\n",
       "      <td>25517</td>\n",
       "      <td>NaN</td>\n",
       "      <td>NaN</td>\n",
       "      <td>관악구</td>\n",
       "      <td>NaN</td>\n",
       "      <td>감염경로 조사중</td>\n",
       "      <td>NaN</td>\n",
       "      <td>NaN</td>\n",
       "      <td>NaN</td>\n",
       "      <td>2020-10-22 10:58</td>\n",
       "      <td>2020-10-22 10:58</td>\n",
       "      <td>Y</td>\n",
       "    </tr>\n",
       "    <tr>\n",
       "      <th>4</th>\n",
       "      <td>5744</td>\n",
       "      <td>10.21.</td>\n",
       "      <td>25504</td>\n",
       "      <td>NaN</td>\n",
       "      <td>NaN</td>\n",
       "      <td>관악구</td>\n",
       "      <td>NaN</td>\n",
       "      <td>기타 확진자 접촉</td>\n",
       "      <td>NaN</td>\n",
       "      <td>NaN</td>\n",
       "      <td>NaN</td>\n",
       "      <td>2020-10-22 10:58</td>\n",
       "      <td>2020-10-22 10:58</td>\n",
       "      <td>Y</td>\n",
       "    </tr>\n",
       "  </tbody>\n",
       "</table>\n",
       "</div>"
      ],
      "text/plain": [
       "     연번     확진일   환자번호  국적  환자정보   지역  여행력        접촉력  조치사항   상태 이동경로  \\\n",
       "0  5748  10.21.  25530 NaN   NaN  양천구  NaN   감염경로 조사중   NaN  NaN  NaN   \n",
       "1  5747  10.21.  25528 NaN   NaN  강동구  NaN  강남서초 지인모임   NaN  NaN  NaN   \n",
       "2  5746  10.21.  25525 NaN   NaN  강남구  NaN  기타 확진자 접촉   NaN  NaN  NaN   \n",
       "3  5745  10.21.  25517 NaN   NaN  관악구  NaN   감염경로 조사중   NaN  NaN  NaN   \n",
       "4  5744  10.21.  25504 NaN   NaN  관악구  NaN  기타 확진자 접촉   NaN  NaN  NaN   \n",
       "\n",
       "                등록일               수정일 노출여부  \n",
       "0  2020-10-22 10:58  2020-10-22 10:58    Y  \n",
       "1  2020-10-22 10:58  2020-10-22 10:58    Y  \n",
       "2  2020-10-22 10:58  2020-10-22 10:58    Y  \n",
       "3  2020-10-22 10:58  2020-10-22 10:58    Y  \n",
       "4  2020-10-22 10:58  2020-10-22 10:58    Y  "
      ]
     },
     "execution_count": 3,
     "metadata": {},
     "output_type": "execute_result"
    }
   ],
   "source": [
    "corona_all.head()"
   ]
  },
  {
   "cell_type": "code",
   "execution_count": 4,
   "id": "47d57d3a",
   "metadata": {},
   "outputs": [
    {
     "name": "stdout",
     "output_type": "stream",
     "text": [
      "<class 'pandas.core.frame.DataFrame'>\n",
      "RangeIndex: 5748 entries, 0 to 5747\n",
      "Data columns (total 14 columns):\n",
      " #   Column  Non-Null Count  Dtype  \n",
      "---  ------  --------------  -----  \n",
      " 0   연번      5748 non-null   int64  \n",
      " 1   확진일     5748 non-null   object \n",
      " 2   환자번호    5748 non-null   int64  \n",
      " 3   국적      0 non-null      float64\n",
      " 4   환자정보    0 non-null      float64\n",
      " 5   지역      5748 non-null   object \n",
      " 6   여행력     459 non-null    object \n",
      " 7   접촉력     5748 non-null   object \n",
      " 8   조치사항    0 non-null      float64\n",
      " 9   상태      5357 non-null   object \n",
      " 10  이동경로    5520 non-null   object \n",
      " 11  등록일     5748 non-null   object \n",
      " 12  수정일     5748 non-null   object \n",
      " 13  노출여부    5748 non-null   object \n",
      "dtypes: float64(3), int64(2), object(9)\n",
      "memory usage: 628.8+ KB\n"
     ]
    }
   ],
   "source": [
    "corona_all.info()"
   ]
  },
  {
   "cell_type": "markdown",
   "id": "6147163d",
   "metadata": {},
   "source": [
    "## 2.1 비어있는 column 지우기\n",
    "\n",
    "    *데이터를 삭제할때는 반드시 원본 데이터에서 삭제 하지 않고 새로운 변수에 저장하고 삭제해야함.*"
   ]
  },
  {
   "cell_type": "code",
   "execution_count": 5,
   "id": "6263f30d",
   "metadata": {},
   "outputs": [],
   "source": [
    "corona = corona_all.drop(columns = ['국적', \"환자정보\", \"조치사항\"])"
   ]
  },
  {
   "cell_type": "code",
   "execution_count": 6,
   "id": "0b8964b7",
   "metadata": {
    "scrolled": true
   },
   "outputs": [
    {
     "name": "stdout",
     "output_type": "stream",
     "text": [
      "<class 'pandas.core.frame.DataFrame'>\n",
      "RangeIndex: 5748 entries, 0 to 5747\n",
      "Data columns (total 11 columns):\n",
      " #   Column  Non-Null Count  Dtype \n",
      "---  ------  --------------  ----- \n",
      " 0   연번      5748 non-null   int64 \n",
      " 1   확진일     5748 non-null   object\n",
      " 2   환자번호    5748 non-null   int64 \n",
      " 3   지역      5748 non-null   object\n",
      " 4   여행력     459 non-null    object\n",
      " 5   접촉력     5748 non-null   object\n",
      " 6   상태      5357 non-null   object\n",
      " 7   이동경로    5520 non-null   object\n",
      " 8   등록일     5748 non-null   object\n",
      " 9   수정일     5748 non-null   object\n",
      " 10  노출여부    5748 non-null   object\n",
      "dtypes: int64(2), object(9)\n",
      "memory usage: 494.1+ KB\n"
     ]
    }
   ],
   "source": [
    "corona.info()"
   ]
  },
  {
   "cell_type": "markdown",
   "id": "fe4e791f",
   "metadata": {},
   "source": [
    "## 3.1 확진일 데이터 전처리 하기"
   ]
  },
  {
   "cell_type": "code",
   "execution_count": 7,
   "id": "e7e3d72d",
   "metadata": {},
   "outputs": [
    {
     "data": {
      "text/plain": [
       "0       10.21.\n",
       "1       10.21.\n",
       "2       10.21.\n",
       "3       10.21.\n",
       "4       10.21.\n",
       "         ...  \n",
       "5743     1.31.\n",
       "5744     1.30.\n",
       "5745     1.30.\n",
       "5746     1.30.\n",
       "5747     1.24.\n",
       "Name: 확진일, Length: 5748, dtype: object"
      ]
     },
     "execution_count": 7,
     "metadata": {},
     "output_type": "execute_result"
    }
   ],
   "source": [
    "corona['확진일']"
   ]
  },
  {
   "cell_type": "code",
   "execution_count": 8,
   "id": "c9eb5dcf",
   "metadata": {},
   "outputs": [],
   "source": [
    "months = []\n",
    "days = []\n",
    "for data in corona['확진일']:\n",
    "    dt = data.split(\".\")\n",
    "    months.append(int(dt[0]))\n",
    "    days.append(int(dt[1]))"
   ]
  },
  {
   "cell_type": "code",
   "execution_count": 9,
   "id": "2d05260e",
   "metadata": {},
   "outputs": [],
   "source": [
    "corona[\"월\"] = months\n",
    "corona[\"일\"] = days"
   ]
  },
  {
   "cell_type": "code",
   "execution_count": 10,
   "id": "0b73c7c2",
   "metadata": {},
   "outputs": [
    {
     "name": "stdout",
     "output_type": "stream",
     "text": [
      "<class 'pandas.core.frame.DataFrame'>\n",
      "RangeIndex: 5748 entries, 0 to 5747\n",
      "Data columns (total 13 columns):\n",
      " #   Column  Non-Null Count  Dtype \n",
      "---  ------  --------------  ----- \n",
      " 0   연번      5748 non-null   int64 \n",
      " 1   확진일     5748 non-null   object\n",
      " 2   환자번호    5748 non-null   int64 \n",
      " 3   지역      5748 non-null   object\n",
      " 4   여행력     459 non-null    object\n",
      " 5   접촉력     5748 non-null   object\n",
      " 6   상태      5357 non-null   object\n",
      " 7   이동경로    5520 non-null   object\n",
      " 8   등록일     5748 non-null   object\n",
      " 9   수정일     5748 non-null   object\n",
      " 10  노출여부    5748 non-null   object\n",
      " 11  월       5748 non-null   int64 \n",
      " 12  일       5748 non-null   int64 \n",
      "dtypes: int64(4), object(9)\n",
      "memory usage: 583.9+ KB\n"
     ]
    }
   ],
   "source": [
    "corona.info()"
   ]
  },
  {
   "cell_type": "code",
   "execution_count": 31,
   "id": "de818519",
   "metadata": {},
   "outputs": [
    {
     "data": {
      "text/plain": [
       "<Figure size 720x360 with 0 Axes>"
      ]
     },
     "metadata": {},
     "output_type": "display_data"
    },
    {
     "data": {
      "image/png": "[encoded data removed]",
      "text/plain": [
       "<Figure size 432x288 with 1 Axes>"
      ]
     },
     "metadata": {},
     "output_type": "display_data"
    }
   ],
   "source": [
    "order = list(range(1,11))\n",
    "fig = plt.figure(figsize =(10,5))\n",
    "plt.rcParams['font.family'] = 'AppleGothic'\n",
    "fig, ax = plt.subplots()\n",
    "sns.set(style=\"darkgrid\")\n",
    "ax = sns.countplot(x = \"월\", data=corona, palette=\"Set2\")"
   ]
  },
  {
   "cell_type": "markdown",
   "id": "de509074",
   "metadata": {},
   "source": [
    "## 3.3 8월달 일별 확진자 수"
   ]
  },
  {
   "cell_type": "code",
   "execution_count": 37,
   "id": "5dcd2163",
   "metadata": {},
   "outputs": [
    {
     "name": "stdout",
     "output_type": "stream",
     "text": [
      "0       10\n",
      "1       10\n",
      "2       10\n",
      "3       10\n",
      "4       10\n",
      "        ..\n",
      "5743     1\n",
      "5744     1\n",
      "5745     1\n",
      "5746     1\n",
      "5747     1\n",
      "Name: 월, Length: 5748, dtype: int64\n"
     ]
    }
   ],
   "source": [
    "or"
   ]
  },
  {
   "cell_type": "code",
   "execution_count": null,
   "id": "8a2ccf94",
   "metadata": {},
   "outputs": [],
   "source": []
  }
 ],
 "metadata": {
  "kernelspec": {
   "display_name": "Python 3.9.5 64-bit",
   "language": "python",
   "name": "python395jvsc74a57bd07812ea015bdcee6f23a998adcdd2ef97c151c0c241b7b7070987d9313e41299d"
  },
  "language_info": {
   "codemirror_mode": {
    "name": "ipython",
    "version": 3
   },
   "file_extension": ".py",
   "mimetype": "text/x-python",
   "name": "python",
   "nbconvert_exporter": "python",
   "pygments_lexer": "ipython3",
   "version": "3.9.5"
  }
 },
 "nbformat": 4,
 "nbformat_minor": 5
}
