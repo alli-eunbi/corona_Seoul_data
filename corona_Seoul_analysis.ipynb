{
 "cells": [
  {
   "cell_type": "markdown",
   "metadata": {},
   "source": [
    "# 코로나 데이터 분석"
   ]
  },
  {
   "cell_type": "markdown",
   "metadata": {},
   "source": [
    "## 1.1 데이터 불러오기\n"
   ]
  },
  {
   "cell_type": "code",
   "execution_count": 4,
   "metadata": {
    "scrolled": true
   },
   "outputs": [],
   "source": [
    "import numpy as np\n",
    "import pandas as pd\n",
    "import matplotlib.pyplot as plt\n",
    "import seaborn as sns"
   ]
  },
  {
   "cell_type": "code",
   "execution_count": 5,
   "metadata": {},
   "outputs": [],
   "source": [
    "# csv 파일 읽어오기\n",
    "corona_all = pd.read_csv('./서울시 코로나19 확진자 현황.csv')"
   ]
  },
  {
   "cell_type": "code",
   "execution_count": 6,
   "metadata": {},
   "outputs": [
    {
     "data": {
      "text/html": "<div>\n<style scoped>\n    .dataframe tbody tr th:only-of-type {\n        vertical-align: middle;\n    }\n\n    .dataframe tbody tr th {\n        vertical-align: top;\n    }\n\n    .dataframe thead th {\n        text-align: right;\n    }\n</style>\n<table border=\"1\" class=\"dataframe\">\n  <thead>\n    <tr style=\"text-align: right;\">\n      <th></th>\n      <th>연번</th>\n      <th>확진일</th>\n      <th>환자번호</th>\n      <th>국적</th>\n      <th>환자정보</th>\n      <th>지역</th>\n      <th>여행력</th>\n      <th>접촉력</th>\n      <th>조치사항</th>\n      <th>상태</th>\n      <th>이동경로</th>\n      <th>등록일</th>\n      <th>수정일</th>\n      <th>노출여부</th>\n    </tr>\n  </thead>\n  <tbody>\n    <tr>\n      <th>0</th>\n      <td>5748</td>\n      <td>10.21.</td>\n      <td>25530</td>\n      <td>NaN</td>\n      <td>NaN</td>\n      <td>양천구</td>\n      <td>NaN</td>\n      <td>감염경로 조사중</td>\n      <td>NaN</td>\n      <td>NaN</td>\n      <td>NaN</td>\n      <td>2020-10-22 10:58</td>\n      <td>2020-10-22 10:58</td>\n      <td>Y</td>\n    </tr>\n    <tr>\n      <th>1</th>\n      <td>5747</td>\n      <td>10.21.</td>\n      <td>25528</td>\n      <td>NaN</td>\n      <td>NaN</td>\n      <td>강동구</td>\n      <td>NaN</td>\n      <td>강남서초 지인모임</td>\n      <td>NaN</td>\n      <td>NaN</td>\n      <td>NaN</td>\n      <td>2020-10-22 10:58</td>\n      <td>2020-10-22 10:58</td>\n      <td>Y</td>\n    </tr>\n    <tr>\n      <th>2</th>\n      <td>5746</td>\n      <td>10.21.</td>\n      <td>25525</td>\n      <td>NaN</td>\n      <td>NaN</td>\n      <td>강남구</td>\n      <td>NaN</td>\n      <td>기타 확진자 접촉</td>\n      <td>NaN</td>\n      <td>NaN</td>\n      <td>NaN</td>\n      <td>2020-10-22 10:58</td>\n      <td>2020-10-22 10:58</td>\n      <td>Y</td>\n    </tr>\n    <tr>\n      <th>3</th>\n      <td>5745</td>\n      <td>10.21.</td>\n      <td>25517</td>\n      <td>NaN</td>\n      <td>NaN</td>\n      <td>관악구</td>\n      <td>NaN</td>\n      <td>감염경로 조사중</td>\n      <td>NaN</td>\n      <td>NaN</td>\n      <td>NaN</td>\n      <td>2020-10-22 10:58</td>\n      <td>2020-10-22 10:58</td>\n      <td>Y</td>\n    </tr>\n    <tr>\n      <th>4</th>\n      <td>5744</td>\n      <td>10.21.</td>\n      <td>25504</td>\n      <td>NaN</td>\n      <td>NaN</td>\n      <td>관악구</td>\n      <td>NaN</td>\n      <td>기타 확진자 접촉</td>\n      <td>NaN</td>\n      <td>NaN</td>\n      <td>NaN</td>\n      <td>2020-10-22 10:58</td>\n      <td>2020-10-22 10:58</td>\n      <td>Y</td>\n    </tr>\n  </tbody>\n</table>\n</div>",
      "text/plain": "     연번     확진일   환자번호  국적  환자정보   지역  여행력        접촉력  조치사항   상태 이동경로  \\\n0  5748  10.21.  25530 NaN   NaN  양천구  NaN   감염경로 조사중   NaN  NaN  NaN   \n1  5747  10.21.  25528 NaN   NaN  강동구  NaN  강남서초 지인모임   NaN  NaN  NaN   \n2  5746  10.21.  25525 NaN   NaN  강남구  NaN  기타 확진자 접촉   NaN  NaN  NaN   \n3  5745  10.21.  25517 NaN   NaN  관악구  NaN   감염경로 조사중   NaN  NaN  NaN   \n4  5744  10.21.  25504 NaN   NaN  관악구  NaN  기타 확진자 접촉   NaN  NaN  NaN   \n\n                등록일               수정일 노출여부  \n0  2020-10-22 10:58  2020-10-22 10:58    Y  \n1  2020-10-22 10:58  2020-10-22 10:58    Y  \n2  2020-10-22 10:58  2020-10-22 10:58    Y  \n3  2020-10-22 10:58  2020-10-22 10:58    Y  \n4  2020-10-22 10:58  2020-10-22 10:58    Y  "
     },
     "execution_count": 6,
     "metadata": {},
     "output_type": "execute_result"
    }
   ],
   "source": [
    "corona_all.head()"
   ]
  },
  {
   "cell_type": "code",
   "execution_count": 7,
   "metadata": {},
   "outputs": [
    {
     "name": "stdout",
     "output_type": "stream",
     "text": [
      "<class 'pandas.core.frame.DataFrame'>\n",
      "RangeIndex: 5748 entries, 0 to 5747\n",
      "Data columns (total 14 columns):\n",
      " #   Column  Non-Null Count  Dtype  \n",
      "---  ------  --------------  -----  \n",
      " 0   연번      5748 non-null   int64  \n",
      " 1   확진일     5748 non-null   object \n",
      " 2   환자번호    5748 non-null   int64  \n",
      " 3   국적      0 non-null      float64\n",
      " 4   환자정보    0 non-null      float64\n",
      " 5   지역      5748 non-null   object \n",
      " 6   여행력     459 non-null    object \n",
      " 7   접촉력     5748 non-null   object \n",
      " 8   조치사항    0 non-null      float64\n",
      " 9   상태      5357 non-null   object \n",
      " 10  이동경로    5520 non-null   object \n",
      " 11  등록일     5748 non-null   object \n",
      " 12  수정일     5748 non-null   object \n",
      " 13  노출여부    5748 non-null   object \n",
      "dtypes: float64(3), int64(2), object(9)\n",
      "memory usage: 628.8+ KB\n"
     ]
    }
   ],
   "source": [
    "corona_all.info()"
   ]
  },
  {
   "cell_type": "markdown",
   "metadata": {},
   "source": [
    "## 2.1 비어있는 column 지우기\n",
    "\n",
    "    *데이터를 삭제할때는 반드시 원본 데이터에서 삭제 하지 않고 새로운 변수에 저장하고 삭제해야함.*"
   ]
  },
  {
   "cell_type": "code",
   "execution_count": 8,
   "metadata": {},
   "outputs": [],
   "source": [
    "corona = corona_all.drop(columns = ['국적', \"환자정보\", \"조치사항\"])"
   ]
  },
  {
   "cell_type": "code",
   "execution_count": 9,
   "metadata": {
    "scrolled": true
   },
   "outputs": [
    {
     "name": "stdout",
     "output_type": "stream",
     "text": [
      "<class 'pandas.core.frame.DataFrame'>\n",
      "RangeIndex: 5748 entries, 0 to 5747\n",
      "Data columns (total 11 columns):\n",
      " #   Column  Non-Null Count  Dtype \n",
      "---  ------  --------------  ----- \n",
      " 0   연번      5748 non-null   int64 \n",
      " 1   확진일     5748 non-null   object\n",
      " 2   환자번호    5748 non-null   int64 \n",
      " 3   지역      5748 non-null   object\n",
      " 4   여행력     459 non-null    object\n",
      " 5   접촉력     5748 non-null   object\n",
      " 6   상태      5357 non-null   object\n",
      " 7   이동경로    5520 non-null   object\n",
      " 8   등록일     5748 non-null   object\n",
      " 9   수정일     5748 non-null   object\n",
      " 10  노출여부    5748 non-null   object\n",
      "dtypes: int64(2), object(9)\n",
      "memory usage: 494.1+ KB\n"
     ]
    }
   ],
   "source": [
    "corona.info()"
   ]
  },
  {
   "cell_type": "markdown",
   "metadata": {},
   "source": [
    "## 3.1 확진일 데이터 전처리 하기"
   ]
  },
  {
   "cell_type": "code",
   "execution_count": 10,
   "metadata": {},
   "outputs": [
    {
     "data": {
      "text/plain": "0       10.21.\n1       10.21.\n2       10.21.\n3       10.21.\n4       10.21.\n         ...  \n5743     1.31.\n5744     1.30.\n5745     1.30.\n5746     1.30.\n5747     1.24.\nName: 확진일, Length: 5748, dtype: object"
     },
     "execution_count": 10,
     "metadata": {},
     "output_type": "execute_result"
    }
   ],
   "source": [
    "corona['확진일']"
   ]
  },
  {
   "cell_type": "code",
   "execution_count": 11,
   "metadata": {},
   "outputs": [],
   "source": [
    "months = []\n",
    "days = []\n",
    "for data in corona['확진일']:\n",
    "    dt = data.split(\".\")\n",
    "    months.append(int(dt[0]))\n",
    "    days.append(int(dt[1]))"
   ]
  },
  {
   "cell_type": "code",
   "execution_count": 12,
   "metadata": {},
   "outputs": [],
   "source": [
    "corona[\"월\"] = months\n",
    "corona[\"일\"] = days"
   ]
  },
  {
   "cell_type": "code",
   "execution_count": 13,
   "metadata": {},
   "outputs": [
    {
     "name": "stdout",
     "output_type": "stream",
     "text": [
      "<class 'pandas.core.frame.DataFrame'>\n",
      "RangeIndex: 5748 entries, 0 to 5747\n",
      "Data columns (total 13 columns):\n",
      " #   Column  Non-Null Count  Dtype \n",
      "---  ------  --------------  ----- \n",
      " 0   연번      5748 non-null   int64 \n",
      " 1   확진일     5748 non-null   object\n",
      " 2   환자번호    5748 non-null   int64 \n",
      " 3   지역      5748 non-null   object\n",
      " 4   여행력     459 non-null    object\n",
      " 5   접촉력     5748 non-null   object\n",
      " 6   상태      5357 non-null   object\n",
      " 7   이동경로    5520 non-null   object\n",
      " 8   등록일     5748 non-null   object\n",
      " 9   수정일     5748 non-null   object\n",
      " 10  노출여부    5748 non-null   object\n",
      " 11  월       5748 non-null   int64 \n",
      " 12  일       5748 non-null   int64 \n",
      "dtypes: int64(4), object(9)\n",
      "memory usage: 583.9+ KB\n"
     ]
    }
   ],
   "source": [
    "corona.info()"
   ]
  },
  {
   "cell_type": "code",
   "execution_count": 14,
   "metadata": {},
   "outputs": [
    {
     "data": {
      "text/plain": "<Figure size 720x360 with 0 Axes>"
     },
     "metadata": {},
     "output_type": "display_data"
    },
    {
     "data": {
      "image/png": "[encoded data removed]",
      "text/plain": "<Figure size 432x288 with 1 Axes>"
     },
     "metadata": {
      "needs_background": "light"
     },
     "output_type": "display_data"
    }
   ],
   "source": [
    "order = list(range(1,11))\n",
    "fig = plt.figure(figsize =(10,5))\n",
    "plt.rcParams['font.family'] = 'AppleGothic'\n",
    "fig, ax = plt.subplots()\n",
    "sns.set(style=\"darkgrid\")\n",
    "ax = sns.countplot(x = \"월\", data=corona, palette=\"Set2\")"
   ]
  },
  {
   "cell_type": "markdown",
   "metadata": {},
   "source": [
    "## 3.3 8월달 일별 확진자 수"
   ]
  },
  {
   "cell_type": "code",
   "execution_count": 17,
   "metadata": {},
   "outputs": [],
   "source": [
    "corona_8 = corona[corona['월']==8]"
   ]
  },
  {
   "cell_type": "code",
   "execution_count": 18,
   "metadata": {},
   "outputs": [
    {
     "data": {
      "text/html": "<div>\n<style scoped>\n    .dataframe tbody tr th:only-of-type {\n        vertical-align: middle;\n    }\n\n    .dataframe tbody tr th {\n        vertical-align: top;\n    }\n\n    .dataframe thead th {\n        text-align: right;\n    }\n</style>\n<table border=\"1\" class=\"dataframe\">\n  <thead>\n    <tr style=\"text-align: right;\">\n      <th></th>\n      <th>연번</th>\n      <th>확진일</th>\n      <th>환자번호</th>\n      <th>지역</th>\n      <th>여행력</th>\n      <th>접촉력</th>\n      <th>상태</th>\n      <th>이동경로</th>\n      <th>등록일</th>\n      <th>수정일</th>\n      <th>노출여부</th>\n      <th>월</th>\n      <th>일</th>\n    </tr>\n  </thead>\n  <tbody>\n    <tr>\n      <th>1271</th>\n      <td>4477</td>\n      <td>8.31.</td>\n      <td>20132</td>\n      <td>타시도</td>\n      <td>NaN</td>\n      <td>감염경로 조사중</td>\n      <td>퇴원</td>\n      <td>이동경로 공개기간 경과</td>\n      <td>2020-10-22 10:58</td>\n      <td>2020-10-23 9:00</td>\n      <td>Y</td>\n      <td>8</td>\n      <td>31</td>\n    </tr>\n    <tr>\n      <th>1272</th>\n      <td>4476</td>\n      <td>8.25.</td>\n      <td>17968</td>\n      <td>타시도</td>\n      <td>NaN</td>\n      <td>성북구 사랑제일교회 관련</td>\n      <td>NaN</td>\n      <td>이동경로 공개기간 경과</td>\n      <td>2020-10-22 10:58</td>\n      <td>2020-10-23 9:00</td>\n      <td>Y</td>\n      <td>8</td>\n      <td>25</td>\n    </tr>\n    <tr>\n      <th>1273</th>\n      <td>4475</td>\n      <td>8.26.</td>\n      <td>18821</td>\n      <td>타시도</td>\n      <td>NaN</td>\n      <td>타시도 확진자 접촉</td>\n      <td>퇴원</td>\n      <td>이동경로 공개기간 경과</td>\n      <td>2020-10-22 10:58</td>\n      <td>2020-10-23 9:00</td>\n      <td>Y</td>\n      <td>8</td>\n      <td>26</td>\n    </tr>\n    <tr>\n      <th>1274</th>\n      <td>4474</td>\n      <td>8.27.</td>\n      <td>18818</td>\n      <td>타시도</td>\n      <td>NaN</td>\n      <td>기타 확진자 접촉</td>\n      <td>퇴원</td>\n      <td>이동경로 공개기간 경과</td>\n      <td>2020-10-22 10:58</td>\n      <td>2020-10-23 9:00</td>\n      <td>Y</td>\n      <td>8</td>\n      <td>27</td>\n    </tr>\n    <tr>\n      <th>1504</th>\n      <td>4244</td>\n      <td>8.30.</td>\n      <td>20116</td>\n      <td>타시도</td>\n      <td>NaN</td>\n      <td>감염경로 조사중</td>\n      <td>퇴원</td>\n      <td>이동경로 공개기간 경과</td>\n      <td>2020-10-22 10:58</td>\n      <td>2020-10-23 9:00</td>\n      <td>Y</td>\n      <td>8</td>\n      <td>30</td>\n    </tr>\n  </tbody>\n</table>\n</div>",
      "text/plain": "        연번    확진일   환자번호   지역  여행력            접촉력   상태          이동경로  \\\n1271  4477  8.31.  20132  타시도  NaN       감염경로 조사중   퇴원  이동경로 공개기간 경과   \n1272  4476  8.25.  17968  타시도  NaN  성북구 사랑제일교회 관련  NaN  이동경로 공개기간 경과   \n1273  4475  8.26.  18821  타시도  NaN     타시도 확진자 접촉   퇴원  이동경로 공개기간 경과   \n1274  4474  8.27.  18818  타시도  NaN      기타 확진자 접촉   퇴원  이동경로 공개기간 경과   \n1504  4244  8.30.  20116  타시도  NaN       감염경로 조사중   퇴원  이동경로 공개기간 경과   \n\n                   등록일              수정일 노출여부  월   일  \n1271  2020-10-22 10:58  2020-10-23 9:00    Y  8  31  \n1272  2020-10-22 10:58  2020-10-23 9:00    Y  8  25  \n1273  2020-10-22 10:58  2020-10-23 9:00    Y  8  26  \n1274  2020-10-22 10:58  2020-10-23 9:00    Y  8  27  \n1504  2020-10-22 10:58  2020-10-23 9:00    Y  8  30  "
     },
     "execution_count": 18,
     "metadata": {},
     "output_type": "execute_result"
    }
   ],
   "source": [
    "corona_8.head()"
   ]
  }
 ],
 "metadata": {
  "kernelspec": {
   "display_name": "Python 3.9.5 64-bit",
   "name": "python395jvsc74a57bd07812ea015bdcee6f23a998adcdd2ef97c151c0c241b7b7070987d9313e41299d"
  },
  "language_info": {
   "codemirror_mode": {
    "name": "ipython",
    "version": 3
   },
   "file_extension": ".py",
   "mimetype": "text/x-python",
   "name": "python",
   "nbconvert_exporter": "python",
   "pygments_lexer": "ipython3",
   "version": "3.9.5"
  },
  "metadata": {
   "interpreter": {
    "hash": "7812ea015bdcee6f23a998adcdd2ef97c151c0c241b7b7070987d9313e41299d"
   }
  },
  "orig_nbformat": 3
 },
 "nbformat": 4,
 "nbformat_minor": 5
}